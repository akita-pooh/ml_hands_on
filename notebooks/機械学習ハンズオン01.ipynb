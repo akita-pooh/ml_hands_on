{
  "nbformat": 4,
  "nbformat_minor": 0,
  "metadata": {
    "colab": {
      "provenance": [],
      "toc_visible": true,
      "authorship_tag": "ABX9TyPNAwisO/sdFgrLlsjNwCVR",
      "include_colab_link": true
    },
    "kernelspec": {
      "name": "python3",
      "display_name": "Python 3"
    },
    "language_info": {
      "name": "python"
    }
  },
  "cells": [
    {
      "cell_type": "markdown",
      "metadata": {
        "id": "view-in-github",
        "colab_type": "text"
      },
      "source": [
        "<a href=\"https://colab.research.google.com/github/akita-pooh/ml_hands_on/blob/main/notebooks/%E6%A9%9F%E6%A2%B0%E5%AD%A6%E7%BF%92%E3%83%8F%E3%83%B3%E3%82%BA%E3%82%AA%E3%83%B301.ipynb\" target=\"_parent\"><img src=\"https://colab.research.google.com/assets/colab-badge.svg\" alt=\"Open In Colab\"/></a>"
      ]
    },
    {
      "cell_type": "markdown",
      "source": [
        "# 機械学習ハンズオン 第1回"
      ],
      "metadata": {
        "id": "m32Ih8YaNiuq"
      }
    },
    {
      "cell_type": "markdown",
      "source": [
        "Python の使い方を勉強しましょう！！！"
      ],
      "metadata": {
        "id": "ZZWOnaGr-31b"
      }
    },
    {
      "cell_type": "markdown",
      "source": [
        "## 1.1. Python の基本文法"
      ],
      "metadata": {
        "id": "qXA_aiPWOSkX"
      }
    },
    {
      "cell_type": "markdown",
      "source": [
        "Python で何かを出力したいときは, `print()` という関数を使います.  \n",
        "非常に簡単なので, 試しに「プーさん可愛い！」と出力してみましょう."
      ],
      "metadata": {
        "id": "D7dZl1wfRH6v"
      }
    },
    {
      "cell_type": "code",
      "execution_count": null,
      "metadata": {
        "id": "-k8SdnVJKw6x"
      },
      "outputs": [],
      "source": [
        "print(\"プーさん可愛い！\")"
      ]
    },
    {
      "cell_type": "markdown",
      "source": [
        "文字列を扱う場合はダブルクォーテーション(\" \")、またはシングルクォーテーション(' ')で囲みます.  \n",
        "Python ではたった1行でもプログラムを実行できちゃいます."
      ],
      "metadata": {
        "id": "qTouKhTO22-M"
      }
    },
    {
      "cell_type": "markdown",
      "source": [
        "続いて, 入力についてもやってみましょう.  \n",
        "入力は, 任意の変数名(以下の例では `hoge` という名前の変数を用意します)の中に自分で入力した値を「文字列」として受け取ります.  \n",
        "`input()` という関数を次のように用いることで, 変数 `hoge` に入力値を代入することができます."
      ],
      "metadata": {
        "id": "6zkA8L7vUcbd"
      }
    },
    {
      "cell_type": "code",
      "source": [
        "hoge = input()"
      ],
      "metadata": {
        "id": "DxK_ED3r2LOY"
      },
      "execution_count": null,
      "outputs": []
    },
    {
      "cell_type": "markdown",
      "source": [
        "これだけだと分からないので, せっかくなので前でやった出力と繋げて確認してみましょう.  \n",
        "`print()` 関数のカッコの中には, 「引数(ひきすう)」というものを入れます.  \n",
        "これは, 数学における関数に代入する値のようなものです.\n",
        "\n",
        "$$f(x) = 2x + 1$$\n",
        "\n",
        "上記の例だと, $x$ の値を変えることで関数 $f(x)$ の値も変わってきます.  \n",
        "さて, この `print()` 関数の引数としては, 数値はもちろん, 文字列や変数を入れることができます.  \n",
        "つまり, `print(hoge)` とすれば自身で入力したものが出力されるはずです！"
      ],
      "metadata": {
        "id": "Dn7w98dh4A1g"
      }
    },
    {
      "cell_type": "code",
      "source": [
        "print(hoge)"
      ],
      "metadata": {
        "id": "YQ9XMnuS5-Jl"
      },
      "execution_count": null,
      "outputs": []
    },
    {
      "cell_type": "markdown",
      "source": [
        "同様に, `input()` 関数の中にも引数があり, ここではよく文字列として `input(\"何かを入力してください: \")` などのように, これが入力を要求してますよということを表示します."
      ],
      "metadata": {
        "id": "FnOXnAPF6KL9"
      }
    },
    {
      "cell_type": "code",
      "source": [
        "hoge = input(\"何かを入力してください: \")"
      ],
      "metadata": {
        "id": "I_Rdc2VA67_v"
      },
      "execution_count": null,
      "outputs": []
    },
    {
      "cell_type": "markdown",
      "source": [
        "上でも記述した通り, この入力が受け取るのは「文字列」になります.  \n",
        "例えば入力として `2` を入れたとしても, それは文字として認識した `\"2\"` になります.  \n",
        "よって, 次のようなコードでは数値計算を行うことができません."
      ],
      "metadata": {
        "id": "9trKD6rQ7OrA"
      }
    },
    {
      "cell_type": "code",
      "source": [
        "# 変数 hoge と fuga にそれぞれ 2, 3 を入力する\n",
        "hoge = input(\"hoge に 2 を入力してください: \")\n",
        "fuga = input(\"fuga に 3 を入力してください: \")\n",
        "\n",
        "# hoge と fuga を足してみる\n",
        "hogefuga = hoge + fuga\n",
        "print(hogefuga)"
      ],
      "metadata": {
        "id": "H41x7i4M7xL5"
      },
      "execution_count": null,
      "outputs": []
    },
    {
      "cell_type": "markdown",
      "source": [
        "これを見ると, `hoge` と `fuga` の足し算は `23` になってしまいます.  \n",
        "当たり前ですが, $2 + 3 = 5$ なのでこれは間違っています.  \n",
        "これは `2` も `3` も文字列として認識されており, 文字列同士の足し算はそのまま連結となるからです.\n",
        "\n",
        "```python\n",
        "word_1 = \"プーさん\"\n",
        "word_2 = \"可愛い\"\n",
        "word_3 = \"！\"\n",
        "\n",
        "sentence = word_1 + word_2 + word_3\n",
        "print(sentence) # プーさん可愛い！\n",
        "```\n",
        "\n",
        "そんな時には, `int` クラスを使います.  \n",
        "これは, 文字として認識されてしまっている整数値を正しく整数値として置き換えるものです."
      ],
      "metadata": {
        "id": "uwvEJdRX8nR2"
      }
    },
    {
      "cell_type": "code",
      "source": [
        "# 変数 hoge と fuga にそれぞれ 2, 3 を入力する\n",
        "hoge = input(\"hoge に 2 を入力してください: \")\n",
        "fuga = input(\"fuga に 3 を入力してください: \")\n",
        "\n",
        "# 整数に置き換える\n",
        "hoge = int(hoge)\n",
        "fuga = int(fuga)\n",
        "\n",
        "# hoge と fuga を足してみる\n",
        "hogefuga = hoge + fuga\n",
        "print(hogefuga)"
      ],
      "metadata": {
        "id": "PtBk9uPI-SZw"
      },
      "execution_count": null,
      "outputs": []
    },
    {
      "cell_type": "markdown",
      "source": [
        "もちろん, これは「本来整数値として見られるはずなのに文字列として認識されてしまうもの」にしか適用できないクラスです.  \n",
        "すなわち, 「プーさん可愛い！」という文字列をこの `int` クラスで置き換えようとしてもできません."
      ],
      "metadata": {
        "id": "zpSTj15qAefC"
      }
    },
    {
      "cell_type": "markdown",
      "source": [
        "他にもよく使われるものとして, 小数を同様の形で扱う `float` クラスというものがあります.  \n",
        "逆に, 整数値や小数値から文字列に直したいという場合は `str` クラスというものがあります."
      ],
      "metadata": {
        "id": "FWYOPyuaBFSB"
      }
    },
    {
      "cell_type": "markdown",
      "source": [
        "### 演習1"
      ],
      "metadata": {
        "id": "CZsvqpvNB8QY"
      }
    },
    {
      "cell_type": "markdown",
      "source": [
        "今までのを応用して, 整数同士の足し算表示のプログラムを作ってみましょう.  \n",
        "形式としては,\n",
        "\n",
        "```\n",
        "x + y = z\n",
        "```\n",
        "\n",
        "となるように出力します.  \n",
        "例えば, `x` に `2` を代入し, `y` に `3` を代入すると次のような出力を期待します.\n",
        "\n",
        "```\n",
        "2 + 3 = 5\n",
        "```"
      ],
      "metadata": {
        "id": "wFA5KI2nCAWq"
      }
    },
    {
      "cell_type": "code",
      "source": [
        "x = input(\"x に整数を入力してください: \")\n",
        "y = input(\"y に整数を入力してください: \")\n",
        "\n",
        "# ここから考えてみる↓↓↓"
      ],
      "metadata": {
        "id": "loPGXWHBCS-i"
      },
      "execution_count": null,
      "outputs": []
    },
    {
      "cell_type": "markdown",
      "source": [
        "## 1.2. ループ処理と条件分岐"
      ],
      "metadata": {
        "id": "gVj7ZEPXFtRf"
      }
    },
    {
      "cell_type": "markdown",
      "source": [
        "ほとんどのプログラミング言語同様に Python にもループ処理があります.  \n",
        "主に,\n",
        "\n",
        "- `while` : ループ回数が決まっておらず, 条件を満たすまで続ける\n",
        "- `for` : 指定した回数だけループ処理を行う\n",
        "\n",
        "の2つの方法があります.  \n",
        "ここで, `while` の方は使用の際に少しばかり危険を伴うので, 今回は `for` を使ったループ処理を学習します."
      ],
      "metadata": {
        "id": "xM1NC-OZF2Od"
      }
    },
    {
      "cell_type": "code",
      "source": [
        "for _ in range(5):\n",
        "    print(\"プーさん可愛い！\")"
      ],
      "metadata": {
        "id": "J2rVZKfmJ9j_"
      },
      "execution_count": null,
      "outputs": []
    },
    {
      "cell_type": "markdown",
      "source": [
        "これは, `range()` 関数内で指定した回数だけインデント内の処理を繰り返すというものになります.  \n",
        "Python は他言語とは大きく異なり, インデントの概念が重要です.  \n",
        "なぜなら, インデントを合わせることで塊として処理を行うからです."
      ],
      "metadata": {
        "id": "aDmHle3PKh7J"
      }
    },
    {
      "cell_type": "markdown",
      "source": [
        "今度は `for` ループの中で, `range()` 関数に依存する変数を用いた処理を考えます."
      ],
      "metadata": {
        "id": "TBysXLdFaQuF"
      }
    },
    {
      "cell_type": "code",
      "source": [
        "for i in range(5):\n",
        "    print(f\"{i}: プーさん可愛い！\")"
      ],
      "metadata": {
        "id": "bzO0e-e4al0J"
      },
      "execution_count": null,
      "outputs": []
    },
    {
      "cell_type": "markdown",
      "source": [
        "ここでまずは `range()` 関数の意味を考えます.  \n",
        "`range(num)` とは, 0から順に1ずつ足して, `num` の数だけのリストのようなものを作る関数になります.  \n",
        "つまり, `range(5)` だと `[0, 1, 2, 3, 4]` というようなリストを作ったという理解で一旦は良いでしょう.  \n",
        "その中の要素を順に `i` という変数に代入しています.  \n",
        "これにより, `range()` 関数の中の要素を順に繰り返すことができます."
      ],
      "metadata": {
        "id": "G5X2lgAda9tB"
      }
    },
    {
      "cell_type": "markdown",
      "source": [
        "今度は条件によって処理を変える `if` について学びましょう.  \n",
        "`if` は単体で使われることも, `else` や `elif` と併用することもあります.  \n",
        "使い方としては, まずは `if` の条件を与え, その条件を満たさない場合に更に別の条件を加えるのであれば `elif` を, それ以外の全てのケースに該当するのであれば `else` を使います.  \n",
        "百聞は一見にしかずなので見てみましょう."
      ],
      "metadata": {
        "id": "Om_fbrNvTSPs"
      }
    },
    {
      "cell_type": "code",
      "source": [
        "# 0, 1, ..., 19までの20個の整数を順に見ていく\n",
        "for i in range(20):\n",
        "    # iに1を足した値(すなわち1〜20の整数)について条件分岐をする\n",
        "    # 5で割り切れるかで分岐する\n",
        "    if (i + 1) % 5 == 0:\n",
        "        print(f\"{i + 1}は5の倍数です\")\n",
        "\n",
        "    # 7で割り切れるかで分岐する\n",
        "    elif (i + 1) % 7 == 0:\n",
        "        print(f\"{i + 1}は7の倍数です\")\n",
        "\n",
        "    # 5でも7でも割り切れない場合は全てここに入る\n",
        "    else:\n",
        "        print(f\"{i + 1}は5の倍数でも7の倍数でもありません\")"
      ],
      "metadata": {
        "id": "d_YW_s0kUSN7"
      },
      "execution_count": null,
      "outputs": []
    },
    {
      "cell_type": "markdown",
      "source": [
        "`if` の条件のときだけ特別な処理を行い, それ以外は何もしなくていいというときは `else` 文の中に `pass` とだけ入れる, もしくはもっと簡単に `else` 文を記述しないという選択ができます."
      ],
      "metadata": {
        "id": "Xrv8UdETWq0M"
      }
    },
    {
      "cell_type": "markdown",
      "source": [
        "### 演習2"
      ],
      "metadata": {
        "id": "sqgANK7yXE_V"
      }
    },
    {
      "cell_type": "markdown",
      "source": [
        "1〜100までの整数で3の倍数と3が付く数字のみを出力するプログラムを書いてみましょう."
      ],
      "metadata": {
        "id": "-TTMV_HHXK6q"
      }
    },
    {
      "cell_type": "code",
      "source": [
        "for i in range(100):\n",
        "    # ここから考えてみる↓↓↓"
      ],
      "metadata": {
        "id": "ul-wLBLkXf45"
      },
      "execution_count": null,
      "outputs": []
    },
    {
      "cell_type": "markdown",
      "source": [
        "## 1.3. 配列"
      ],
      "metadata": {
        "id": "9Aj65SmiX0gR"
      }
    },
    {
      "cell_type": "markdown",
      "source": [
        "プログラムを組む上で, 変わりゆく変数を取り扱う場合に値を忘れないように保存したいことはしばしばあります.  \n",
        "そのような場合に役に立つのが配列です."
      ],
      "metadata": {
        "id": "0dvzw3d2ZuHc"
      }
    },
    {
      "cell_type": "code",
      "source": [
        "nums = [0, 1, 2, 3, 4]"
      ],
      "metadata": {
        "id": "RMjp-W4TaDxr"
      },
      "execution_count": null,
      "outputs": []
    },
    {
      "cell_type": "markdown",
      "source": [
        "配列を作るときは `[ ]` の中に要素を入れます.  \n",
        "要素間にはカンマ(`,`)を入れて区切ります.  \n",
        "これは1次元なので「ベクトル」または「1次元配列」という呼び方をします.  \n",
        "また, リスト形式になっているので, 単純にリストと言うこともあります.  \n",
        "このリストには, 左から順にインデックスが振られており, 0から1ずつ増えていきます.  \n",
        "今回のリストの長さは5であり, それぞれがインデックスと同じ値を取っていますが, 仮に次のような文字列のリストを用意するとどうでしょうか."
      ],
      "metadata": {
        "id": "zVVSFJoraLnR"
      }
    },
    {
      "cell_type": "code",
      "source": [
        "words = [\"りんご\", \"みかん\", \"バナナ\", \"いちご\"]"
      ],
      "metadata": {
        "id": "866qA0FMbSEt"
      },
      "execution_count": null,
      "outputs": []
    },
    {
      "cell_type": "markdown",
      "source": [
        "インデックスと単語の組み合わせは以下の通りです.\n",
        "\n",
        "```json\n",
        "{\n",
        "    \"0\": \"りんご\",\n",
        "    \"1\": \"みかん\",\n",
        "    \"2\": \"バナナ\",\n",
        "    \"3\": \"いちご\"\n",
        "}\n",
        "```\n",
        "\n",
        "では実際にインデックスが2のものを取り出してみましょう.  \n",
        "バナナが出力されれば正解ですね."
      ],
      "metadata": {
        "id": "o9A-2s2TbeYI"
      }
    },
    {
      "cell_type": "code",
      "source": [
        "fruit = words[2]\n",
        "print(fruit)"
      ],
      "metadata": {
        "id": "MQjCTUBecFK6"
      },
      "execution_count": null,
      "outputs": []
    },
    {
      "cell_type": "markdown",
      "source": [
        "はい, 正しく出てきたかと思います.  \n",
        "配列の変数名の後ろに `words[2]` のように `[ ]` をつけてあげることで, そのカッコの中のインデックスの要素にアクセスすることができます.  \n",
        "ということは, 1.2.で勉強した `for` 文を使って全ての要素を順番に抜き出すこともできます."
      ],
      "metadata": {
        "id": "5skOWtvPcRdx"
      }
    },
    {
      "cell_type": "code",
      "source": [
        "for i in range(4):\n",
        "    print(words[i])"
      ],
      "metadata": {
        "id": "RgH6vs5nc2k-"
      },
      "execution_count": null,
      "outputs": []
    },
    {
      "cell_type": "markdown",
      "source": [
        "さて, 配列には長さというものがあります.  \n",
        "上の配列では要素数が4なので, これは長さ4の配列ということになります.  \n",
        "しかし, 場合によっては長さが分からない配列が与えられることや, こちらが忘れてしまうこともあります.  \n",
        "そんなときは `len()` 関数を使うことでその長さを調べることができます."
      ],
      "metadata": {
        "id": "lSDV8sZGdIde"
      }
    },
    {
      "cell_type": "code",
      "source": [
        "length = len(words)\n",
        "print(length)"
      ],
      "metadata": {
        "id": "VpmTuVO3dlgw"
      },
      "execution_count": null,
      "outputs": []
    },
    {
      "cell_type": "markdown",
      "source": [
        "`for` 文と組み合わせるときはこの `len()` 関数を使って範囲の指定をすることが多いです."
      ],
      "metadata": {
        "id": "8A4ugW1Glbty"
      }
    },
    {
      "cell_type": "code",
      "source": [
        "for i in range(len(words)):\n",
        "    print(words[i])"
      ],
      "metadata": {
        "id": "ZamT9CSDlrUS"
      },
      "execution_count": null,
      "outputs": []
    },
    {
      "cell_type": "markdown",
      "source": [
        "世の中のデータを全て1次元で管理するのは難しい話です.  \n",
        "例えば, 中学校の同学年の人数が120人, 1クラスあたり40人とすれば3クラスあることになり, 要素数40のベクトルを3つ並べる必要があります.  \n",
        "すなわち, ベクトルのベクトルを作るということです.  \n",
        "1次元での管理が難しい場合に2次元に拡張することで, データの取り扱いがしやすくなります.  \n",
        "この2次元の配列を「行列」と呼びます."
      ],
      "metadata": {
        "id": "gPY9om4olv5M"
      }
    },
    {
      "cell_type": "code",
      "source": [
        "matrix = [\n",
        "    [\"りんご\", \"みかん\", \"バナナ\", \"いちご\"],\n",
        "    [\"人参\", \"キャベツ\", \"玉ねぎ\", \"ピーマン\"],\n",
        "    [\"マグロ\", \"鮭\", \"カツオ\", \"イワシ\"]\n",
        "]"
      ],
      "metadata": {
        "id": "1iPbC2ZtmbJu"
      },
      "execution_count": null,
      "outputs": []
    },
    {
      "cell_type": "markdown",
      "source": [
        "ではこの行列の長さはどうなるでしょうか."
      ],
      "metadata": {
        "id": "On0JANdrmyqf"
      }
    },
    {
      "cell_type": "code",
      "source": [
        "print(len(matrix))"
      ],
      "metadata": {
        "id": "t3YD1kW3m2fr"
      },
      "execution_count": null,
      "outputs": []
    },
    {
      "cell_type": "markdown",
      "source": [
        "これは3つのベクトルで構成されているので長さは3になります.  \n",
        "試しに要素を出力してみましょう."
      ],
      "metadata": {
        "id": "Vrn28FNkm5Bf"
      }
    },
    {
      "cell_type": "code",
      "source": [
        "for i in range(len(matrix)):\n",
        "    print(matrix[i])"
      ],
      "metadata": {
        "id": "y9U4BXzOnCnt"
      },
      "execution_count": null,
      "outputs": []
    },
    {
      "cell_type": "markdown",
      "source": [
        "今, 各 `i` において `matrix[i]` はベクトルとなっているので, このベクトルの中の要素を取り出したいときは `matrix[i][j]` のようにしなければいけません."
      ],
      "metadata": {
        "id": "jXo9s-p1o4pa"
      }
    },
    {
      "cell_type": "code",
      "source": [
        "salmon = matrix[2][1]\n",
        "print(salmon)"
      ],
      "metadata": {
        "id": "MOe7BNhGpRqO"
      },
      "execution_count": null,
      "outputs": []
    },
    {
      "cell_type": "markdown",
      "source": [
        "ここで, `i` と `j` は範囲が(一般的に)異なるのでそれぞれで変数を定義する必要があります.  \n",
        "よって同一の `for` ループの中で `matrix[i][j]` とすると `j` とはなんぞやと怒られたり, `matrix[i][i]` とすると対角成分しか抜き出されなかったりします.  \n",
        "このような場合は, `for` ループの中にもう一つ `for` ループを書くということをします."
      ],
      "metadata": {
        "id": "eeaawKaFpXRA"
      }
    },
    {
      "cell_type": "code",
      "source": [
        "for i in range(len(matrix)):\n",
        "    for j in range(len(matrix[i])):\n",
        "        print(matrix[i][j])"
      ],
      "metadata": {
        "id": "3MFbmcnqqAH1"
      },
      "execution_count": null,
      "outputs": []
    },
    {
      "cell_type": "markdown",
      "source": [
        "勘が良い方は気がついたかもしれませんが, 2次元以上の場合も同様に考えられます.  \n",
        "つまり, 行列やその先を要素とするベクトルを作ることもできるだろうと予想できます.  \n",
        "2次元以上の配列を考える場合は, 3次元から先を「テンソル」と言うことがあります.  \n",
        "今回はそこまでは扱わないですが, このテンソルという考え方はディープラーニングの世界では重要になってきます."
      ],
      "metadata": {
        "id": "shSLHyWOqDt8"
      }
    },
    {
      "cell_type": "markdown",
      "source": [
        "では, 今度は配列の要素を追加することを考えてみましょう.  \n",
        "先ほどの `words` の中に `ぶどう` を追加してみましょう."
      ],
      "metadata": {
        "id": "uibfQsNqqxRA"
      }
    },
    {
      "cell_type": "code",
      "source": [
        "# 元のベクトルを表示する\n",
        "words = [\"りんご\", \"みかん\", \"バナナ\", \"いちご\"]\n",
        "print(f\"元のベクトル: {words}\")\n",
        "\n",
        "# ぶどうを追加したベクトルを表示する\n",
        "words.append(\"ぶどう\")\n",
        "print(f\"追加後のベクトル: {words}\")"
      ],
      "metadata": {
        "id": "w-Ntqddnq-by"
      },
      "execution_count": null,
      "outputs": []
    },
    {
      "cell_type": "markdown",
      "source": [
        "このように, `.append()` というメソッドを使用することで要素を追加することができます.  \n",
        "逆に要素を削除する方法はいくつかあるのですが, 使わないことの方が多いので今回は省略します."
      ],
      "metadata": {
        "id": "VfCklpK_rZZ2"
      }
    },
    {
      "cell_type": "markdown",
      "source": [
        "### 演習3"
      ],
      "metadata": {
        "id": "xsNmBQEHtgmF"
      }
    },
    {
      "cell_type": "markdown",
      "source": [
        "100マス計算をしてみましょう.  \n",
        "縦と横にそれぞれ0〜9の数列があり, 各要素を掛け合わせて2次元の配列を作ります.  \n",
        "縦横の数の定義は以下のものとします.\n",
        "\n",
        "```python\n",
        "# 縦\n",
        "row = [4, 1, 7, 3, 0, 9, 5, 2, 8, 6]\n",
        "\n",
        "# 横\n",
        "col = [8, 2, 3, 5, 9, 0, 1, 4, 6, 7]\n",
        "```\n",
        "\n",
        "よって, 出力は次のようになることが求められます.\n",
        "\n",
        "```\n",
        "[\n",
        "    [32, 8, 12, 20, 36, 0, 4, 16, 24, 28],\n",
        "    [8, 2, 3, 5, 9, 0, 1, 4, 6, 7],\n",
        "    [56, 14, 21, 35, 63, 0, 7, 28, 42, 49],\n",
        "    [24, 6, 9, 15, 27, 0, 3, 12, 18, 21],\n",
        "    [0, 0, 0, 0, 0, 0, 0, 0, 0, 0],\n",
        "    [72, 18, 27, 45, 81, 0, 9, 36, 54, 63],\n",
        "    [40, 10, 15, 25, 45, 0, 5, 20, 30, 35],\n",
        "    [16, 4, 6, 10, 18, 0, 2, 8, 12, 14],\n",
        "    [64, 16, 24, 40, 72, 0, 8, 32, 48, 56],\n",
        "    [48, 12, 18, 30, 54, 0, 6, 24, 36, 42]\n",
        "]\n",
        "```\n",
        "\n",
        "ここで, 掛け算の演算記号は `*` になります.\n",
        "\n",
        "```python\n",
        "# 2と3の積\n",
        "ans = 2 * 3 # 6\n",
        "```"
      ],
      "metadata": {
        "id": "m3YRzmfutj7G"
      }
    },
    {
      "cell_type": "code",
      "source": [
        "# 縦横の定義\n",
        "row = [4, 1, 7, 3, 0, 9, 5, 2, 8, 6]\n",
        "col = [8, 2, 3, 5, 9, 0, 1, 4, 6, 7]\n",
        "\n",
        "out = [] # 空のリスト, ここに追加していく\n",
        "for i in range(10):\n",
        "    # ここから考えてみる↓↓↓\n",
        "\n",
        "    # ここまで考えてみる↑↑↑\n",
        "\n",
        "# 表示する\n",
        "for i in range(10):\n",
        "    print(out[i])"
      ],
      "metadata": {
        "id": "Pluecc8gyB0d"
      },
      "execution_count": null,
      "outputs": []
    },
    {
      "cell_type": "markdown",
      "source": [
        "## 1.4. 関数"
      ],
      "metadata": {
        "id": "F08qgGIb0sOf"
      }
    },
    {
      "cell_type": "markdown",
      "source": [
        "似たような処理を何度かする場合, 関数を先に定義しておくことで冗長なコーディングを防ぐことができます.\n",
        "\n",
        "```python\n",
        "def test():\n",
        "    return \"プーさん可愛い！\"\n",
        "```\n",
        "\n",
        "上記の `test()` 関数は, 返り値として `\"プーさん可愛い！\"` というものを持ったものになります.  \n",
        "まず, 関数を作るには `def` の後にその関数の名前を入れ(例でいう `test`), `( ):` で定義します.  \n",
        "もし, この関数に入力する値がある場合は引数を定義します.  \n",
        "今回は関数内で処理がないため必要はありません.  \n",
        "この関数は, 呼び出された時に `\"プーさん可愛い！\"` という文字列を受け渡します.  \n",
        "返り値があるということは, それを受け取るための変数が必要なので, 使い方は以下のようになります.\n",
        "\n",
        "```python\n",
        "text = test()\n",
        "print(text) # プーさん可愛い！\n",
        "```\n",
        "\n",
        "実際に見てみましょう."
      ],
      "metadata": {
        "id": "JATU8g4_0y-w"
      }
    },
    {
      "cell_type": "code",
      "source": [
        "def test():\n",
        "    return \"プーさん可愛い！\"\n",
        "\n",
        "text = test()\n",
        "print(text)"
      ],
      "metadata": {
        "id": "cjATkgUf3is-"
      },
      "execution_count": null,
      "outputs": []
    },
    {
      "cell_type": "markdown",
      "source": [
        "これと全く同じ処理で次のように書くこともあります."
      ],
      "metadata": {
        "id": "Cc9J1EEq3uXp"
      }
    },
    {
      "cell_type": "code",
      "source": [
        "def test():\n",
        "    text = \"プーさん可愛い！\"\n",
        "    return text\n",
        "\n",
        "text = test()\n",
        "print(text)"
      ],
      "metadata": {
        "id": "idf1g1vv314G"
      },
      "execution_count": null,
      "outputs": []
    },
    {
      "cell_type": "markdown",
      "source": [
        "こちらの方が受け渡しの際に変数を設定しやすいですね."
      ],
      "metadata": {
        "id": "ROswYS5b37m-"
      }
    },
    {
      "cell_type": "markdown",
      "source": [
        "では今度は引数に整数値を入れて, その回数だけ `text` を繰り返した文字列を返す実装をしましょう."
      ],
      "metadata": {
        "id": "hQkCNubf4Gxi"
      }
    },
    {
      "cell_type": "code",
      "source": [
        "def test_2(num):\n",
        "    text = \"プーさん可愛い！\" * num\n",
        "    return text\n",
        "\n",
        "num = 10 # 10回繰り返す\n",
        "text = test(num)\n",
        "print(text)"
      ],
      "metadata": {
        "id": "0bWkmGYH4Uxh"
      },
      "execution_count": null,
      "outputs": []
    },
    {
      "cell_type": "markdown",
      "source": [
        "さらに引数を増やして, 文字列を自由に設定してみましょう."
      ],
      "metadata": {
        "id": "X58NIA-1EozI"
      }
    },
    {
      "cell_type": "code",
      "source": [
        "def test_3(num, text):\n",
        "    iter_text = text * num\n",
        "    return iter_text\n",
        "\n",
        "num = 10 # 10回繰り返す\n",
        "text = \"プーさん愛してる\" # 好きな文字列を指定する\n",
        "iter_text = test_3(num, text)\n",
        "print(iter_text)"
      ],
      "metadata": {
        "id": "cKOrI3r7EwvS"
      },
      "execution_count": null,
      "outputs": []
    },
    {
      "cell_type": "markdown",
      "source": [
        "引数は好きなだけ指定できますが, 関数内の処理に不要なものは入れないようにしましょう.  \n",
        "また, 上記の例で言うと,\n",
        "\n",
        "```python\n",
        "iter_text = test_3(text, num)\n",
        "```\n",
        "\n",
        "と引数の順序を入れ替えてしまうとエラーが発生してしまいます.  \n",
        "そのようなケースを避けるために, 引数名と照らし合わせることもできます."
      ],
      "metadata": {
        "id": "6GvC7k3uFTFG"
      }
    },
    {
      "cell_type": "code",
      "source": [
        "num = 10 # 10回繰り返す\n",
        "text = \"プーさん愛してる\" # 好きな文字列を指定する\n",
        "iter_text = test_3(num=num, text=text)\n",
        "print(iter_text)"
      ],
      "metadata": {
        "id": "667ILILAGFdA"
      },
      "execution_count": null,
      "outputs": []
    },
    {
      "cell_type": "markdown",
      "source": [
        "また, このように引数名を明記する場合は, 順序を入れ替えることもできます."
      ],
      "metadata": {
        "id": "AaTLAErUGTvk"
      }
    },
    {
      "cell_type": "code",
      "source": [
        "num = 10 # 10回繰り返す\n",
        "text = \"プーさん愛してる\" # 好きな文字列を指定する\n",
        "iter_text = test_3(text=text, num=num)\n",
        "print(iter_text)"
      ],
      "metadata": {
        "id": "nt0sblCcGekG"
      },
      "execution_count": null,
      "outputs": []
    },
    {
      "cell_type": "markdown",
      "source": [
        "引数が本当は存在するのにも関わらず, 入力しなかった場合はエラーが発生してしまいます.  \n",
        "上の例だと,\n",
        "\n",
        "```python\n",
        "iter_text = test_3(text=text) # num を指定しない\n",
        "```\n",
        "\n",
        "とすると `num` が設定されていませんとエラーが出てきてしまいます.  \n",
        "しかし, 関数そのものにデフォルト値を設けることで, 予め指定している値で動かすこともできます."
      ],
      "metadata": {
        "id": "TXSp02FkGwPA"
      }
    },
    {
      "cell_type": "code",
      "source": [
        "def test_4(num=10, text=\"プーさん可愛い！\"):\n",
        "    iter_text = text * num\n",
        "    return iter_text\n",
        "\n",
        "# 値を指定する場合\n",
        "num_1 = 5 # 5回繰り返す\n",
        "text_1 = \"プーさん愛してる\" # 好きな文字列を指定する\n",
        "iter_text_1 = test_4(num=num_1, text=text_1)\n",
        "print(f\"値を指定\\n{iter_text_1}\\n\")\n",
        "\n",
        "# 値を指定しない場合\n",
        "iter_text_2 = test_4()\n",
        "print(f\"値を指定しない\\n{iter_text_2}\\n\")"
      ],
      "metadata": {
        "id": "K3h2aitxHl7t"
      },
      "execution_count": null,
      "outputs": []
    },
    {
      "cell_type": "markdown",
      "source": [
        "デフォルト値を指定する場合は, 引数の最後に指定します.  \n",
        "デフォルト値の無い引数を先に設定しないとエラーが出ます.\n",
        "\n",
        "```python\n",
        "# NG例\n",
        "def test_n(num=10, text):\n",
        "    iter_text = text * num\n",
        "    return iter_text\n",
        "\n",
        "# OK例\n",
        "def test_n(text, num=10):\n",
        "    iter_text = text * num\n",
        "    return iter_text\n",
        "```"
      ],
      "metadata": {
        "id": "1ZKSf6kmI3q3"
      }
    },
    {
      "cell_type": "markdown",
      "source": [
        "### 演習4"
      ],
      "metadata": {
        "id": "4hVc5_QQKdYJ"
      }
    },
    {
      "cell_type": "markdown",
      "source": [
        "3つの数値($a$, $b$, $c$)を入力して, 以下の計算をする関数を実装しましょう.\n",
        "\n",
        "1.   $a^2 + b^2$ を計算し, これを $d$ とする\n",
        "2.   $d(c - b)$ を計算し, これを $e$ とする\n",
        "3.   $\\frac{e}{a}$ の商を返り値とする\n",
        "\n",
        "ここで, $a$ は0以外の数値を入れます."
      ],
      "metadata": {
        "id": "sP2dbzAEKf3X"
      }
    },
    {
      "cell_type": "code",
      "source": [
        "# ここから考えてみる↓↓↓\n",
        "def calculation():\n",
        "# ここまで考えてみる↑↑↑\n",
        "\n",
        "test_case_1 = [2, 5, 1]\n",
        "print(calculation(test_case_1[0], test_case_1[1], test_case_1[2])) # -58\n",
        "\n",
        "test_case_2 = [10, 20, 30]\n",
        "print(calculation(test_case_2[0], test_case_2[1], test_case_2[2])) # 500\n",
        "\n",
        "test_case_3 = [0.5, 2, 5]\n",
        "print(calculation(test_case_3[0], test_case_3[1], test_case_3[2])) # 25.0"
      ],
      "metadata": {
        "id": "Bz7ruxZgO1TF"
      },
      "execution_count": null,
      "outputs": []
    },
    {
      "cell_type": "markdown",
      "source": [
        "## まとめ"
      ],
      "metadata": {
        "id": "HsX1h6NvRkE1"
      }
    },
    {
      "cell_type": "markdown",
      "source": [
        "今回は,\n",
        "\n",
        "- Python の出力と入力\n",
        "    - 出力: `print()`\n",
        "    - 入力: `input()`\n",
        "- Python のループ処理と条件分岐\n",
        "    - `for` ループ\n",
        "    - `if` 文\n",
        "- Python の配列\n",
        "    - リスト\n",
        "    - ベクトル\n",
        "    - 行列\n",
        "    - テンソル\n",
        "    - 要素の追加\n",
        "- Python の関数\n",
        "    - 定義の仕方\n",
        "    - 使い方\n",
        "    - 引数の扱い方\n",
        "\n",
        "について学習しました.  \n",
        "これで Python の基本的なプログラムは書けるようになります.  \n",
        "これは Python に限った話ではなく, プログラミングやもっと一般的な学習に共通することですが, 使わないと忘れてしまいます.  \n",
        "今後プログラムの書き方が分からなくなったら, 今回のハンズオンに戻って確認しましょう."
      ],
      "metadata": {
        "id": "8x-A28B065Xn"
      }
    },
    {
      "cell_type": "markdown",
      "source": [
        "# 次回予告"
      ],
      "metadata": {
        "id": "jQsSLP808lBh"
      }
    },
    {
      "cell_type": "markdown",
      "source": [
        "次回は Python のライブラリについて学びます.  \n",
        "ライブラリとは, Python でプログラムを書く上で予め用意されている便利機能が備わったツールです.  \n",
        "Python が広く使われて人気な理由の1つが, このライブラリの豊富さにあります.  \n",
        "色々なライブラリを駆使することで, 機械学習や化学計算, 音楽の作成など多岐に渡ったシステム開発が可能になります.  \n",
        "代表的なライブラリの使い方について, 次回は取り扱います."
      ],
      "metadata": {
        "id": "op5wIzAF8oLI"
      }
    }
  ]
}